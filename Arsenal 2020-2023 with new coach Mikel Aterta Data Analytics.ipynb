{
 "cells": [
  {
   "cell_type": "code",
   "execution_count": 24,
   "id": "8f21a230",
   "metadata": {},
   "outputs": [],
   "source": [
    "import pandas as pd\n",
    "import matplotlib.pyplot as plt\n",
    "from scipy.stats import ttest_ind, chi2_contingency, f_oneway"
   ]
  },
  {
   "cell_type": "code",
   "execution_count": 5,
   "id": "fa3b529f",
   "metadata": {},
   "outputs": [],
   "source": [
    "data = pd.read_csv('arsenal_stats.csv')"
   ]
  },
  {
   "cell_type": "code",
   "execution_count": 10,
   "id": "a91ab2f2",
   "metadata": {
    "scrolled": true
   },
   "outputs": [
    {
     "data": {
      "text/plain": [
       "(153, 7)"
      ]
     },
     "execution_count": 10,
     "metadata": {},
     "output_type": "execute_result"
    }
   ],
   "source": [
    "data.shape"
   ]
  },
  {
   "cell_type": "code",
   "execution_count": 12,
   "id": "08be6b26",
   "metadata": {},
   "outputs": [
    {
     "data": {
      "text/html": [
       "<div>\n",
       "<style scoped>\n",
       "    .dataframe tbody tr th:only-of-type {\n",
       "        vertical-align: middle;\n",
       "    }\n",
       "\n",
       "    .dataframe tbody tr th {\n",
       "        vertical-align: top;\n",
       "    }\n",
       "\n",
       "    .dataframe thead th {\n",
       "        text-align: right;\n",
       "    }\n",
       "</style>\n",
       "<table border=\"1\" class=\"dataframe\">\n",
       "  <thead>\n",
       "    <tr style=\"text-align: right;\">\n",
       "      <th></th>\n",
       "      <th>Date</th>\n",
       "      <th>Comp</th>\n",
       "      <th>Venue</th>\n",
       "      <th>Result</th>\n",
       "      <th>Opponent</th>\n",
       "      <th>Formation</th>\n",
       "      <th>Referee</th>\n",
       "    </tr>\n",
       "  </thead>\n",
       "  <tbody>\n",
       "    <tr>\n",
       "      <th>0</th>\n",
       "      <td>2020-08-29</td>\n",
       "      <td>Community Shield</td>\n",
       "      <td>Neutral</td>\n",
       "      <td>D</td>\n",
       "      <td>Liverpool</td>\n",
       "      <td>3-4-3</td>\n",
       "      <td>Andre Marriner</td>\n",
       "    </tr>\n",
       "    <tr>\n",
       "      <th>1</th>\n",
       "      <td>2020-09-12</td>\n",
       "      <td>Premier League</td>\n",
       "      <td>Away</td>\n",
       "      <td>W</td>\n",
       "      <td>Fulham</td>\n",
       "      <td>3-4-3</td>\n",
       "      <td>Chris Kavanagh</td>\n",
       "    </tr>\n",
       "    <tr>\n",
       "      <th>2</th>\n",
       "      <td>2020-09-19</td>\n",
       "      <td>Premier League</td>\n",
       "      <td>Home</td>\n",
       "      <td>W</td>\n",
       "      <td>West Ham</td>\n",
       "      <td>3-4-3</td>\n",
       "      <td>Michael Oliver</td>\n",
       "    </tr>\n",
       "    <tr>\n",
       "      <th>3</th>\n",
       "      <td>2020-09-23</td>\n",
       "      <td>EFL Cup</td>\n",
       "      <td>Away</td>\n",
       "      <td>W</td>\n",
       "      <td>Leicester City</td>\n",
       "      <td>3-4-3</td>\n",
       "      <td>Peter Bankes</td>\n",
       "    </tr>\n",
       "    <tr>\n",
       "      <th>4</th>\n",
       "      <td>2020-09-28</td>\n",
       "      <td>Premier League</td>\n",
       "      <td>Away</td>\n",
       "      <td>L</td>\n",
       "      <td>Liverpool</td>\n",
       "      <td>3-4-3</td>\n",
       "      <td>Craig Pawson</td>\n",
       "    </tr>\n",
       "  </tbody>\n",
       "</table>\n",
       "</div>"
      ],
      "text/plain": [
       "         Date              Comp    Venue Result        Opponent Formation  \\\n",
       "0  2020-08-29  Community Shield  Neutral      D       Liverpool     3-4-3   \n",
       "1  2020-09-12    Premier League     Away      W          Fulham     3-4-3   \n",
       "2  2020-09-19    Premier League     Home      W        West Ham     3-4-3   \n",
       "3  2020-09-23           EFL Cup     Away      W  Leicester City     3-4-3   \n",
       "4  2020-09-28    Premier League     Away      L       Liverpool     3-4-3   \n",
       "\n",
       "          Referee  \n",
       "0  Andre Marriner  \n",
       "1  Chris Kavanagh  \n",
       "2  Michael Oliver  \n",
       "3    Peter Bankes  \n",
       "4    Craig Pawson  "
      ]
     },
     "execution_count": 12,
     "metadata": {},
     "output_type": "execute_result"
    }
   ],
   "source": [
    "data.head()"
   ]
  },
  {
   "cell_type": "code",
   "execution_count": 17,
   "id": "55190e57",
   "metadata": {},
   "outputs": [
    {
     "name": "stdout",
     "output_type": "stream",
     "text": [
      "<class 'pandas.core.frame.DataFrame'>\n",
      "RangeIndex: 153 entries, 0 to 152\n",
      "Data columns (total 7 columns):\n",
      " #   Column     Non-Null Count  Dtype \n",
      "---  ------     --------------  ----- \n",
      " 0   Date       153 non-null    object\n",
      " 1   Comp       153 non-null    object\n",
      " 2   Venue      153 non-null    object\n",
      " 3   Result     153 non-null    object\n",
      " 4   Opponent   153 non-null    object\n",
      " 5   Formation  153 non-null    object\n",
      " 6   Referee    153 non-null    object\n",
      "dtypes: object(7)\n",
      "memory usage: 8.5+ KB\n"
     ]
    }
   ],
   "source": [
    "data.info()\n"
   ]
  },
  {
   "cell_type": "code",
   "execution_count": 19,
   "id": "b1e2d779",
   "metadata": {
    "scrolled": true
   },
   "outputs": [
    {
     "data": {
      "text/html": [
       "<div>\n",
       "<style scoped>\n",
       "    .dataframe tbody tr th:only-of-type {\n",
       "        vertical-align: middle;\n",
       "    }\n",
       "\n",
       "    .dataframe tbody tr th {\n",
       "        vertical-align: top;\n",
       "    }\n",
       "\n",
       "    .dataframe thead th {\n",
       "        text-align: right;\n",
       "    }\n",
       "</style>\n",
       "<table border=\"1\" class=\"dataframe\">\n",
       "  <thead>\n",
       "    <tr style=\"text-align: right;\">\n",
       "      <th></th>\n",
       "      <th>Date</th>\n",
       "      <th>Comp</th>\n",
       "      <th>Venue</th>\n",
       "      <th>Result</th>\n",
       "      <th>Opponent</th>\n",
       "      <th>Formation</th>\n",
       "      <th>Referee</th>\n",
       "    </tr>\n",
       "  </thead>\n",
       "  <tbody>\n",
       "    <tr>\n",
       "      <th>count</th>\n",
       "      <td>153</td>\n",
       "      <td>153</td>\n",
       "      <td>153</td>\n",
       "      <td>153</td>\n",
       "      <td>153</td>\n",
       "      <td>153</td>\n",
       "      <td>153</td>\n",
       "    </tr>\n",
       "    <tr>\n",
       "      <th>unique</th>\n",
       "      <td>153</td>\n",
       "      <td>6</td>\n",
       "      <td>4</td>\n",
       "      <td>4</td>\n",
       "      <td>39</td>\n",
       "      <td>9</td>\n",
       "      <td>42</td>\n",
       "    </tr>\n",
       "    <tr>\n",
       "      <th>top</th>\n",
       "      <td>2020-08-29</td>\n",
       "      <td>Premier League</td>\n",
       "      <td>Away</td>\n",
       "      <td>W</td>\n",
       "      <td>Liverpool</td>\n",
       "      <td>4-2-3-1</td>\n",
       "      <td>Michael Oliver</td>\n",
       "    </tr>\n",
       "    <tr>\n",
       "      <th>freq</th>\n",
       "      <td>1</td>\n",
       "      <td>114</td>\n",
       "      <td>75</td>\n",
       "      <td>87</td>\n",
       "      <td>10</td>\n",
       "      <td>69</td>\n",
       "      <td>16</td>\n",
       "    </tr>\n",
       "  </tbody>\n",
       "</table>\n",
       "</div>"
      ],
      "text/plain": [
       "              Date            Comp Venue Result   Opponent Formation  \\\n",
       "count          153             153   153    153        153       153   \n",
       "unique         153               6     4      4         39         9   \n",
       "top     2020-08-29  Premier League  Away      W  Liverpool   4-2-3-1   \n",
       "freq             1             114    75     87         10        69   \n",
       "\n",
       "               Referee  \n",
       "count              153  \n",
       "unique              42  \n",
       "top     Michael Oliver  \n",
       "freq                16  "
      ]
     },
     "execution_count": 19,
     "metadata": {},
     "output_type": "execute_result"
    }
   ],
   "source": [
    "data.describe()"
   ]
  },
  {
   "cell_type": "markdown",
   "id": "cf64b610",
   "metadata": {},
   "source": [
    "## Data Exploration and Analysis"
   ]
  },
  {
   "cell_type": "markdown",
   "id": "45b78008",
   "metadata": {},
   "source": [
    "### Win-Loss ratio"
   ]
  },
  {
   "cell_type": "code",
   "execution_count": 44,
   "id": "9fb11532",
   "metadata": {},
   "outputs": [
    {
     "name": "stdout",
     "output_type": "stream",
     "text": [
      "Win-Loss Ratio:\n",
      "W    0.572368\n",
      "L    0.269737\n",
      "D    0.157895\n",
      "Name: Result, dtype: float64\n"
     ]
    }
   ],
   "source": [
    "win_loss_ratio = data['Result'].value_counts(normalize=True)\n",
    "print(\"Win-Loss Ratio:\")\n",
    "print(win_loss_ratio)"
   ]
  },
  {
   "cell_type": "code",
   "execution_count": 45,
   "id": "0a158ba2",
   "metadata": {},
   "outputs": [
    {
     "data": {
      "image/png": "[encoded data removed]",
      "text/plain": [
       "<Figure size 640x480 with 1 Axes>"
      ]
     },
     "metadata": {},
     "output_type": "display_data"
    }
   ],
   "source": [
    "plt.bar(win_loss_ratio.index, win_loss_ratio.values)\n",
    "plt.xlabel('Result')\n",
    "plt.ylabel('Ratio')\n",
    "plt.title('Win-Loss Ratio')\n",
    "plt.show()"
   ]
  },
  {
   "cell_type": "markdown",
   "id": "75a42eaf",
   "metadata": {},
   "source": [
    "### Home vs. Away Performance "
   ]
  },
  {
   "cell_type": "code",
   "execution_count": 46,
   "id": "2eba3142",
   "metadata": {},
   "outputs": [],
   "source": [
    "home_performance = data[data['Venue'] == 'Home']\n",
    "away_performance = data[data['Venue'] == 'Away']"
   ]
  },
  {
   "cell_type": "code",
   "execution_count": 49,
   "id": "b85f304d",
   "metadata": {},
   "outputs": [
    {
     "data": {
      "image/png": "[encoded data removed]",
      "text/plain": [
       "<Figure size 640x480 with 1 Axes>"
      ]
     },
     "metadata": {},
     "output_type": "display_data"
    }
   ],
   "source": [
    "home_wins = home_performance[home_performance['Result'] == 'W'].shape[0]\n",
    "home_losses = home_performance[home_performance['Result'] == 'L'].shape[0]\n",
    "away_wins = away_performance[away_performance['Result'] == 'W'].shape[0]\n",
    "away_losses = away_performance[away_performance['Result'] == 'L'].shape[0]\n",
    "\n",
    "labels = ['Home Wins', 'Home Losses', 'Away Wins', 'Away Losses']\n",
    "values = [home_wins, home_losses, away_wins, away_losses]\n",
    "\n",
    "plt.bar(labels, values)\n",
    "plt.xlabel('Venue')\n",
    "plt.ylabel('Count')\n",
    "plt.title('Home vs. Away Performance')\n",
    "plt.show()"
   ]
  },
  {
   "cell_type": "markdown",
   "id": "da2aacbc",
   "metadata": {},
   "source": [
    "### Formation Analysis"
   ]
  },
  {
   "cell_type": "code",
   "execution_count": 64,
   "id": "18c79d64",
   "metadata": {},
   "outputs": [
    {
     "name": "stdout",
     "output_type": "stream",
     "text": [
      "Formation Counter:\n",
      "4-2-3-1    69\n",
      "4-3-3      53\n",
      "3-4-3      14\n",
      "4-4-1-1     7\n",
      "4-1-4-1     6\n",
      "4-4-2       1\n",
      "5-4-1       1\n",
      "4-3-2-1     1\n",
      "Name: Formation, dtype: int64\n"
     ]
    },
    {
     "data": {
      "image/png": "[encoded data removed]",
      "text/plain": [
       "<Figure size 640x480 with 1 Axes>"
      ]
     },
     "metadata": {},
     "output_type": "display_data"
    }
   ],
   "source": [
    "formation_count = data['Formation'].value_counts()\n",
    "print(\"Formation Counter:\")\n",
    "print(formation_count)\n",
    "\n",
    "# Viusalization - Bar chart\n",
    "formation_count.plot(kind='bar')\n",
    "plt.xlabel('Formation')\n",
    "plt.ylabel('Count')\n",
    "plt.title('Formation Counter')\n",
    "plt.show()"
   ]
  },
  {
   "cell_type": "code",
   "execution_count": 50,
   "id": "1518f5a8",
   "metadata": {
    "scrolled": true
   },
   "outputs": [
    {
     "name": "stdout",
     "output_type": "stream",
     "text": [
      "Formation Analysis:\n",
      "Result            D         L         W\n",
      "Formation                              \n",
      "3-4-3      0.142857  0.357143  0.500000\n",
      "4-1-4-1    0.500000  0.166667  0.333333\n",
      "4-2-3-1    0.144928  0.318841  0.536232\n",
      "4-3-2-1         NaN       NaN  1.000000\n",
      "4-3-3      0.169811  0.188679  0.641509\n",
      "4-4-1-1         NaN  0.285714  0.714286\n",
      "4-4-2           NaN       NaN  1.000000\n",
      "5-4-1           NaN  1.000000       NaN\n"
     ]
    },
    {
     "data": {
      "image/png": "[encoded data removed]",
      "text/plain": [
       "<Figure size 640x480 with 1 Axes>"
      ]
     },
     "metadata": {},
     "output_type": "display_data"
    }
   ],
   "source": [
    "formation_performance = data.groupby('Formation')['Result'].value_counts(normalize=True).unstack()\n",
    "print(\"Formation Analysis:\")\n",
    "print(formation_performance)\n",
    "\n",
    "# Visualization - Grouped bar chart\n",
    "formation_performance.plot(kind='bar')\n",
    "plt.xlabel('Formation')\n",
    "plt.ylabel('Ratio')\n",
    "plt.title('Formation Analysis')\n",
    "plt.legend(loc='upper right')\n",
    "plt.show()"
   ]
  },
  {
   "cell_type": "code",
   "execution_count": null,
   "id": "386a0114",
   "metadata": {},
   "outputs": [],
   "source": []
  }
 ],
 "metadata": {
  "kernelspec": {
   "display_name": "Python 3 (ipykernel)",
   "language": "python",
   "name": "python3"
  },
  "language_info": {
   "codemirror_mode": {
    "name": "ipython",
    "version": 3
   },
   "file_extension": ".py",
   "mimetype": "text/x-python",
   "name": "python",
   "nbconvert_exporter": "python",
   "pygments_lexer": "ipython3",
   "version": "3.9.13"
  }
 },
 "nbformat": 4,
 "nbformat_minor": 5
}
